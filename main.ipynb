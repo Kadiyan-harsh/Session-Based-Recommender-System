{
  "cells": [
    {
      "cell_type": "markdown",
      "metadata": {
        "id": "view-in-github",
        "colab_type": "text"
      },
      "source": [
        "<a href=\"https://colab.research.google.com/github/Kadiyan-harsh/Session-Based-Recommender-System/blob/main/main.ipynb\" target=\"_parent\"><img src=\"https://colab.research.google.com/assets/colab-badge.svg\" alt=\"Open In Colab\"/></a>"
      ]
    },
    {
      "cell_type": "code",
      "execution_count": 1,
      "metadata": {
        "colab": {
          "base_uri": "https://localhost:8080/"
        },
        "id": "bnhEiX3qKkoE",
        "outputId": "8a633fec-2bc5-4082-a1d2-1aeccfbec7b8"
      },
      "outputs": [
        {
          "output_type": "stream",
          "name": "stdout",
          "text": [
            "Mounted at /content/drive\n"
          ]
        }
      ],
      "source": [
        " from google.colab import drive\n",
        "drive.mount('/content/drive')"
      ]
    },
    {
      "cell_type": "code",
      "execution_count": null,
      "metadata": {
        "id": "SZdqO6HPv5Kh"
      },
      "outputs": [],
      "source": [
        "import sys\n",
        "sys.path.insert(0,'/content/drive/MyDrive/Explo')"
      ]
    },
    {
      "cell_type": "code",
      "execution_count": null,
      "metadata": {
        "colab": {
          "base_uri": "https://localhost:8080/"
        },
        "id": "pkaaWkj1wKKd",
        "outputId": "d66732ee-129a-4194-adb3-442b99bafafc"
      },
      "outputs": [
        {
          "output_type": "stream",
          "name": "stdout",
          "text": [
            "Test set\n",
            "\tEvents: 71222\n",
            "\tSessions: 15324\n",
            "\tItems: 6751\n",
            "Train set\n",
            "\tEvents: 31579006\n",
            "\tSessions: 7953885\n",
            "\tItems: 37483\n",
            "Validation set\n",
            "\tEvents: 58233\n",
            "\tSessions: 12372\n",
            "\tItems: 6359\n"
          ]
        }
      ],
      "source": [
        "from Modules import Preprocess\n",
        "original = 'drive/MyDrive/Explo/Data/'\n",
        "processed = 'drive/MyDrive/Explo/Data/Processed'\n",
        "Preprocess.cleanData(original, processed)\n"
      ]
    },
    {
      "cell_type": "code",
      "execution_count": null,
      "metadata": {
        "colab": {
          "base_uri": "https://localhost:8080/"
        },
        "id": "rfTzxYNDwvig",
        "outputId": "031c3fca-87a3-4386-cf9f-7b57ef58e8fb"
      },
      "outputs": [
        {
          "output_type": "stream",
          "name": "stdout",
          "text": [
            "Loading data from drive/MyDrive/Explo/Data/Processed/rsc15Train.csv\n",
            "Loading data from drive/MyDrive/Explo/Data/Processed/rsc15Valid.csv\n"
          ]
        }
      ],
      "source": [
        "import os\n",
        "import torch\n",
        "from Modules import Tools, Dataset\n",
        "\n",
        "dataFolder = 'drive/MyDrive/Explo/Data/Processed/'\n",
        "trainDataFile = 'rsc15Train.csv'\n",
        "validDataFile = 'rsc15Valid.csv'\n",
        "\n",
        "sessionKey = 'SessionId'\n",
        "itemKey = 'ItemId'\n",
        "timeKey = 'Time'\n",
        "\n",
        "trainPath = os.path.join(dataFolder, trainDataFile)\n",
        "validPath = os.path.join(dataFolder, validDataFile)\n",
        "\n",
        "trainDataSet = Dataset.Dataset(trainPath, sessionKey=sessionKey, itemKey=itemKey, timeKey=timeKey)\n",
        "validDataSet = Dataset.Dataset(validPath, sessionKey=sessionKey, itemKey=itemKey, timeKey=timeKey, itemMap=trainDataSet.itemMap)"
      ]
    },
    {
      "cell_type": "code",
      "execution_count": null,
      "metadata": {
        "id": "JmJl8fTAyQGT"
      },
      "outputs": [],
      "source": [
        "inputSize = trainDataSet.nItems\n",
        "outputSize = inputSize\n",
        "hiddenSize = 100\n",
        "nLayers = 1\n",
        "batchSize = 32\n",
        "negative = True\n",
        "embeddingDim = -1\n",
        "dropoutHidden = 0.0\n",
        "dropoutEmbed = 0.0\n",
        "sigma = 0.0\n",
        "initAsNormal = False\n",
        "cuda = torch.cuda.is_available()\n",
        "\n",
        "finalAct = 'elu-1'\n",
        "lossType = 'bprmax'\n",
        "optimizerType = 'adagrad'\n",
        "lr = 0.1\n",
        "weightDecay = 0.0\n",
        "momentum = 0.0\n",
        "bpreg = 1.0\n",
        "nEpochs = 10\n",
        "\n",
        "timeSort = True\n",
        "trainRandomOrder=False\n",
        "sampleAlpha=0.75\n",
        "trainNSample = 2048\n",
        "validNSample = 0\n",
        "sampleStore = 10000000\n",
        "topN = 20\n",
        "\n",
        "resultDir = 'drive/MyDrive/Explo/Results'"
      ]
    },
    {
      "cell_type": "code",
      "source": [
        "!nvidia-smi"
      ],
      "metadata": {
        "colab": {
          "base_uri": "https://localhost:8080/"
        },
        "id": "JHPGopBsNk-E",
        "outputId": "4b159462-deca-4548-d3f3-af7d8c4edd86"
      },
      "execution_count": null,
      "outputs": [
        {
          "output_type": "stream",
          "name": "stdout",
          "text": [
            "Sat Jun  1 19:11:24 2024       \n",
            "+---------------------------------------------------------------------------------------+\n",
            "| NVIDIA-SMI 535.104.05             Driver Version: 535.104.05   CUDA Version: 12.2     |\n",
            "|-----------------------------------------+----------------------+----------------------+\n",
            "| GPU  Name                 Persistence-M | Bus-Id        Disp.A | Volatile Uncorr. ECC |\n",
            "| Fan  Temp   Perf          Pwr:Usage/Cap |         Memory-Usage | GPU-Util  Compute M. |\n",
            "|                                         |                      |               MIG M. |\n",
            "|=========================================+======================+======================|\n",
            "|   0  Tesla T4                       Off | 00000000:00:04.0 Off |                    0 |\n",
            "| N/A   40C    P8               9W /  70W |      3MiB / 15360MiB |      0%      Default |\n",
            "|                                         |                      |                  N/A |\n",
            "+-----------------------------------------+----------------------+----------------------+\n",
            "                                                                                         \n",
            "+---------------------------------------------------------------------------------------+\n",
            "| Processes:                                                                            |\n",
            "|  GPU   GI   CI        PID   Type   Process name                            GPU Memory |\n",
            "|        ID   ID                                                             Usage      |\n",
            "|=======================================================================================|\n",
            "|  No running processes found                                                           |\n",
            "+---------------------------------------------------------------------------------------+\n"
          ]
        }
      ]
    },
    {
      "cell_type": "code",
      "execution_count": null,
      "metadata": {
        "colab": {
          "base_uri": "https://localhost:8080/"
        },
        "id": "LqKwMAFAzsHk",
        "outputId": "1f533257-924c-4988-b50e-988f4bc14e13"
      },
      "outputs": [
        {
          "output_type": "stream",
          "name": "stdout",
          "text": [
            "Result Folder:drive/MyDrive/Explo/Results/BPR-Max\n",
            "#### START TRAINING....\n",
            "\n",
            "\n",
            "Start Epoch # 0\n"
          ]
        },
        {
          "output_type": "stream",
          "name": "stderr",
          "text": [
            "369158it [29:55, 205.55it/s]                            \n",
            "781it [00:02, 313.18it/s]              \n"
          ]
        },
        {
          "output_type": "stream",
          "name": "stdout",
          "text": [
            "Epoch: 0, train loss: 0.2381, validloss: 0.7481, recall: 0.7137, mrr: 0.3064, time: 1798.5183219909668\n",
            "Save model as drive/MyDrive/Explo/Results/BPR-Max/model_00000.pt\n",
            "\n",
            "\n",
            "Start Epoch # 1\n"
          ]
        },
        {
          "output_type": "stream",
          "name": "stderr",
          "text": [
            "369158it [30:19, 202.90it/s]                            \n",
            "781it [00:02, 353.17it/s]              \n"
          ]
        },
        {
          "output_type": "stream",
          "name": "stdout",
          "text": [
            "Epoch: 1, train loss: 0.2259, validloss: 0.7592, recall: 0.7173, mrr: 0.3116, time: 1821.694696187973\n",
            "Save model as drive/MyDrive/Explo/Results/BPR-Max/model_00001.pt\n",
            "\n",
            "\n",
            "Start Epoch # 2\n"
          ]
        },
        {
          "output_type": "stream",
          "name": "stderr",
          "text": [
            "369158it [30:21, 202.68it/s]                            \n",
            "781it [00:02, 337.74it/s]              \n"
          ]
        },
        {
          "output_type": "stream",
          "name": "stdout",
          "text": [
            "Epoch: 2, train loss: 0.2236, validloss: 0.7607, recall: 0.7181, mrr: 0.3158, time: 1823.699536561966\n",
            "Save model as drive/MyDrive/Explo/Results/BPR-Max/model_00002.pt\n",
            "\n",
            "\n",
            "Start Epoch # 3\n"
          ]
        },
        {
          "output_type": "stream",
          "name": "stderr",
          "text": [
            "369158it [30:22, 202.58it/s]                            \n",
            "781it [00:02, 351.66it/s]              \n"
          ]
        },
        {
          "output_type": "stream",
          "name": "stdout",
          "text": [
            "Epoch: 3, train loss: 0.2225, validloss: 0.7619, recall: 0.7203, mrr: 0.3170, time: 1824.5953123569489\n",
            "Save model as drive/MyDrive/Explo/Results/BPR-Max/model_00003.pt\n",
            "\n",
            "\n",
            "Start Epoch # 4\n"
          ]
        },
        {
          "output_type": "stream",
          "name": "stderr",
          "text": [
            "369158it [30:42, 200.32it/s]                            \n",
            "781it [00:02, 342.31it/s]              \n"
          ]
        },
        {
          "output_type": "stream",
          "name": "stdout",
          "text": [
            "Epoch: 4, train loss: 0.2218, validloss: 0.7636, recall: 0.7200, mrr: 0.3181, time: 1845.1671612262726\n",
            "Save model as drive/MyDrive/Explo/Results/BPR-Max/model_00004.pt\n"
          ]
        }
      ],
      "source": [
        "finalAct = 'elu-0.5'\n",
        "lossType = 'bpr-max'\n",
        "optimizerType = 'adagrad'\n",
        "hiddenSize = 100\n",
        "nEpochs = 5\n",
        "batchSize = 64\n",
        "dropoutHidden = 0.0\n",
        "dropoutEmbed = 0.0\n",
        "lr = 0.2\n",
        "momentum = 0.3\n",
        "trainNSample = 2048\n",
        "sampleAlpha=0.0\n",
        "bpreg = 0.5\n",
        "timeSort = True\n",
        "embeddingDim = 100\n",
        "\n",
        "Tools.fitAndEvalute(trainDataSet, validDataSet, resultDir, inputSize, outputSize,\n",
        "                    lossType, finalAct, nLayers,hiddenSize, nEpochs, batchSize, negative,\n",
        "                    dropoutHidden, dropoutEmbed, lr, momentum,weightDecay,embeddingDim,\n",
        "                    trainNSample, validNSample, sampleAlpha, optimizerType, bpreg, sigma,\n",
        "                    initAsNormal,trainRandomOrder, timeSort, topN, sessionKey, itemKey, timeKey, cuda)"
      ]
    },
    {
      "cell_type": "code",
      "execution_count": null,
      "metadata": {
        "colab": {
          "base_uri": "https://localhost:8080/"
        },
        "id": "Qq6UOYfi3HJL",
        "outputId": "5e0c3ac9-9d66-4b13-9261-756a831a448a"
      },
      "outputs": [
        {
          "output_type": "stream",
          "name": "stdout",
          "text": [
            "Loading data from drive/MyDrive/Explo/Data/Processed/rsc15Train.csv\n",
            "Loading data from drive/MyDrive/Explo/Data/Processed/rsc15Test.csv\n"
          ]
        }
      ],
      "source": [
        "from Modules import Evaluation, Dataset, Loss\n",
        "import torch\n",
        "import os\n",
        "\n",
        "dataFolder = 'drive/MyDrive/Explo/Data/Processed/'\n",
        "trainDataFile = 'rsc15Train.csv'\n",
        "testDataFile = 'rsc15Test.csv'\n",
        "\n",
        "sessionKey = 'SessionId';\n",
        "itemKey = 'ItemId';\n",
        "timeKey = 'Time';\n",
        "\n",
        "trainPath = os.path.join(dataFolder, trainDataFile)\n",
        "testPath = os.path.join(dataFolder, testDataFile)\n",
        "\n",
        "trainDataSet = Dataset.Dataset(trainPath, sessionKey=sessionKey, itemKey=itemKey, timeKey=timeKey)\n",
        "testDataSet = Dataset.Dataset(testPath, sessionKey=sessionKey, itemKey=itemKey, timeKey=timeKey, itemMap=trainDataSet.itemMap)"
      ]
    },
    {
      "cell_type": "code",
      "execution_count": null,
      "metadata": {
        "id": "98dUBWrT4p5f"
      },
      "outputs": [],
      "source": [
        "testDataGenerator = Dataset.DataGenerator(testDataSet, batchSize=32, nSample=0, sampleAlpha=0.0, timeSort=True, trainRandomOrder=False)"
      ]
    },
    {
      "cell_type": "code",
      "execution_count": null,
      "metadata": {
        "colab": {
          "base_uri": "https://localhost:8080/"
        },
        "id": "E9A3i6II4y72",
        "outputId": "a18d0ad2-a17d-4606-f4c5-19ce77963a50"
      },
      "outputs": [
        {
          "output_type": "stream",
          "name": "stderr",
          "text": [
            "1765it [00:02, 600.66it/s]                          \n",
            "1765it [00:02, 609.18it/s]                          \n",
            "1765it [00:02, 726.09it/s]                          \n",
            "1765it [00:02, 737.64it/s]                          \n",
            "1765it [00:02, 746.69it/s]                          \n",
            "1765it [00:02, 668.16it/s]                          \n",
            "1765it [00:03, 580.36it/s]                          \n",
            "1765it [00:02, 751.84it/s]                          \n",
            "1765it [00:02, 737.75it/s]                          \n",
            "1765it [00:02, 731.58it/s]                          \n",
            "1765it [00:02, 732.19it/s]                          \n",
            "1765it [00:03, 554.97it/s]                          "
          ]
        },
        {
          "output_type": "stream",
          "name": "stdout",
          "text": [
            "\n",
            "\n",
            "\n",
            "Test results: recall@1 = 0.4673, mrr@1 = 0.2774\n",
            "Test results: recall@2 = 0.6035, mrr@2 = 0.2958\n",
            "Test results: recall@3 = 0.6702, mrr@3 = 0.3011\n",
            "Test results: recall@4 = 0.7093, mrr@4 = 0.3033\n",
            "Test results: recall@5 = 0.7373, mrr@5 = 0.3045\n",
            "Test results: recall@6 = 0.7580, mrr@6 = 0.3052\n",
            "Test results: recall@7 = 0.7761, mrr@7 = 0.3058\n",
            "Test results: recall@8 = 0.7911, mrr@8 = 0.3062\n",
            "Test results: recall@9 = 0.8031, mrr@9 = 0.3065\n",
            "Test results: recall@10 = 0.8131, mrr@10 = 0.3067\n",
            "Test results: recall@11 = 0.8220, mrr@11 = 0.3068\n",
            "Test results: recall@12 = 0.8289, mrr@12 = 0.3070\n"
          ]
        },
        {
          "output_type": "stream",
          "name": "stderr",
          "text": [
            "\n"
          ]
        }
      ],
      "source": [
        "modelDirectory = os.path.join('drive/MyDrive/Explo/Results', 'BPR-Max')\n",
        "modelName = 'model_00004.pt'\n",
        "modelpath = os.path.join(modelDirectory, modelName)\n",
        "\n",
        "topN = [5, 10, 15, 20, 25, 30, 35, 40, 45, 50, 55, 60]\n",
        "r = []\n",
        "m = []\n",
        "\n",
        "try:\n",
        "    checkpoint = torch.load(modelpath)\n",
        "except:\n",
        "    checkpoint = torch.load(modelpath, map_location=lambda storage, loc: storage)\n",
        "\n",
        "model = checkpoint[\"model\"]\n",
        "model.gru.flatten_parameters()\n",
        "for i in topN:\n",
        "  evaluation = Evaluation.Evaluation(model, k=i)\n",
        "  _, recall, mrr = evaluation.evalute(testDataGenerator)\n",
        "  r.append(recall)\n",
        "  m.append(mrr)\n",
        "print('\\n\\n')\n",
        "\n",
        "for i in range(len(topN)):\n",
        "  print(\"Test results: recall@{} = {:.4f}, mrr@{} = {:.4f}\".format(i+1, r[i], i+1, m[i]))"
      ]
    },
    {
      "cell_type": "code",
      "execution_count": null,
      "metadata": {
        "id": "sEvd82laTFnU",
        "colab": {
          "base_uri": "https://localhost:8080/",
          "height": 430
        },
        "outputId": "1080f35f-20bb-4cf4-fe2c-5a96a98f9f41"
      },
      "outputs": [
        {
          "output_type": "display_data",
          "data": {
            "text/plain": [
              "<Figure size 640x480 with 1 Axes>"
            ],
            "image/png": "[encoded data removed]"
          },
          "metadata": {}
        }
      ],
      "source": [
        "import matplotlib.pyplot as plt\n",
        "plt.plot(topN, r, label='Recall')\n",
        "plt.plot(topN, m, label='MRR')\n",
        "plt.legend()\n",
        "plt.show()"
      ]
    }
  ],
  "metadata": {
    "colab": {
      "provenance": [],
      "gpuType": "T4",
      "include_colab_link": true
    },
    "kernelspec": {
      "display_name": "Python 3",
      "name": "python3"
    },
    "language_info": {
      "name": "python"
    },
    "accelerator": "GPU"
  },
  "nbformat": 4,
  "nbformat_minor": 0
}